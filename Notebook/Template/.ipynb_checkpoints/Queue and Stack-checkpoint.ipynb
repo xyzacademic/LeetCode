{
 "cells": [
  {
   "cell_type": "markdown",
   "metadata": {},
   "source": [
    "队列\n",
    "==\n",
    "\n",
    "在 FIFO 数据结构中，将首先处理添加到队列中的第一个元素。\n",
    "\n",
    "如上图所示，队列是典型的 FIFO 数据结构。插入（insert）操作也称作入队（enqueue），新元素始终被添加在队列的末尾。 删除（delete）操作也被称为出队（dequeue)。 你只能移除第一个元素。\n",
    "\n"
   ]
  },
  {
   "cell_type": "markdown",
   "metadata": {},
   "source": [
    "模板一  循环队列 （数组实现）\n",
    "="
   ]
  },
  {
   "cell_type": "code",
   "execution_count": 2,
   "metadata": {},
   "outputs": [],
   "source": [
    "class Queue(object):\n",
    "    def __init__(self, max_size):\n",
    "        self.max_size = max_size\n",
    "        self.array = [None] * self.max_size\n",
    "        self.head = 0\n",
    "        self.tail = 0\n",
    "    \n",
    "    def get_mod(self, idx):\n",
    "        return (idx + self.max_size) % self.max_size\n",
    "    \n",
    "    def append(self, val):\n",
    "        if self.is_full():\n",
    "            self.expand()\n",
    "        self.array[self.tail] = val\n",
    "        self.tail = self.get_mod(self.tail+1)\n",
    "        \n",
    "        return \n",
    "    \n",
    "    def pop(self, ):\n",
    "        if self.is_empty():\n",
    "            return None \n",
    "        val = self.array[self.head]\n",
    "        self.array[self.head] = None\n",
    "        self.head = self.get_mod(self.head+1)\n",
    "        \n",
    "        return val\n",
    "    \n",
    "    def __len__(self):\n",
    "        return (self.tail + self.max_size - self.head) % self.max_size\n",
    "        \n",
    "    def is_full(self, ):\n",
    "        return (self.tail + 1) % self.max_size == self.head\n",
    "    \n",
    "    def is_empty(self, ):\n",
    "        return self.head == self.tail\n",
    "    \n",
    "    def expand(self, ):\n",
    "        # double array size each time\n",
    "        new_array = [None] * self.max_size * 2\n",
    "        k = 0\n",
    "        \n",
    "        # copy value at index of head to the end to new array \n",
    "        for i in range(self.head, self.max_size):\n",
    "            new_array[k] = self.array[i]\n",
    "            k += 1\n",
    "        # copy the value located before head to new array\n",
    "        for i in range(self.head):\n",
    "            new_array[k] = self.array[i]\n",
    "            k += 1\n",
    "        \n",
    "        self.array = new_array\n",
    "        self.max_size = self.max_size * 2\n",
    "    \n",
    "        return \n",
    "    \n",
    "        "
   ]
  },
  {
   "cell_type": "code",
   "execution_count": 3,
   "metadata": {},
   "outputs": [
    {
     "name": "stdout",
     "output_type": "stream",
     "text": [
      "1\n",
      "2\n",
      "3\n",
      "4\n"
     ]
    }
   ],
   "source": [
    "a = [0, 1, 3, 5]\n",
    "queue = Queue(4)\n",
    "for val in a:\n",
    "    queue.append(val)\n",
    "    print(len(queue))"
   ]
  },
  {
   "cell_type": "markdown",
   "metadata": {},
   "source": [
    "模板二 循环队列 （链表实现）\n",
    "="
   ]
  },
  {
   "cell_type": "code",
   "execution_count": 8,
   "metadata": {},
   "outputs": [],
   "source": [
    "class ListNode(object):\n",
    "    def __init__(self, val=0, next=None):\n",
    "        self.val = val\n",
    "        self.next = next\n",
    "        \n",
    "class Queue(object):\n",
    "    def __init__(self):\n",
    "        self.head = ListNode()\n",
    "        self.tail = ListNode()\n",
    "        self.head.next = self.tail\n",
    "        self.tail.next = self.head\n",
    "        self.size = 0\n",
    "        \n",
    "    def append(self, val):\n",
    "        node = ListNode(val, self.tail)\n",
    "        self.tail.next.next = node\n",
    "        self.size += 1\n",
    "        \n",
    "        return\n",
    "    \n",
    "    def pop(self):\n",
    "        if self.is_empty():\n",
    "            return None\n",
    "        node = self.head.next\n",
    "        self.size -= 1\n",
    "        self.head.next = node.next\n",
    "        if self.size == 0:\n",
    "            self.tail.next = self.head \n",
    "        \n",
    "        return val\n",
    "    \n",
    "    def is_empty(self):\n",
    "        return self.size == 0\n",
    "\n",
    "    def __len__(self):\n",
    "        return self.size"
   ]
  },
  {
   "cell_type": "code",
   "execution_count": 9,
   "metadata": {},
   "outputs": [
    {
     "name": "stdout",
     "output_type": "stream",
     "text": [
      "1\n",
      "2\n",
      "3\n",
      "4\n"
     ]
    }
   ],
   "source": [
    "a = [0, 1, 3, 5]\n",
    "queue = Queue()\n",
    "for val in a:\n",
    "    queue.append(val)\n",
    "    print(len(queue))"
   ]
  },
  {
   "cell_type": "markdown",
   "metadata": {},
   "source": [
    "模板三 双端队列 （数组实现）\n",
    "="
   ]
  },
  {
   "cell_type": "code",
   "execution_count": null,
   "metadata": {},
   "outputs": [],
   "source": [
    "class Deque(object):\n",
    "    def __init__(self, max_size):\n",
    "        self.max_size = max_size\n",
    "        self.array = [None] * self.max_size\n",
    "        self.head = 0\n",
    "        self.tail = 0\n",
    "    \n",
    "    def get_mod(self, idx):\n",
    "        return (idx + self.max_size) % self.max_size\n",
    "    \n",
    "    def append(self, val):\n",
    "        if self.is_full():\n",
    "            self.expand()\n",
    "        self.array[self.tail] = val\n",
    "        self.tail = self.get_mod(self.tail+1)\n",
    "        \n",
    "        return \n",
    "    \n",
    "    def append_left(self, val):\n",
    "        if self.is_full():\n",
    "            self.expand()\n",
    "        self.head = self.get_mod(self.head-1)\n",
    "        self.array[self.head] = val\n",
    "        \n",
    "        return\n",
    "    \n",
    "    def pop(self, ):\n",
    "        if self.is_empty():\n",
    "            return None \n",
    "        val = self.array[self.head]\n",
    "        self.array[self.head] = None\n",
    "        self.head = self.get_mod(self.head+1)\n",
    "        \n",
    "        return val\n",
    "    \n",
    "    def pop_right(self):\n",
    "        if self.is_empty():\n",
    "            return None\n",
    "        self.tail = self.get_mod(self.tail-1)\n",
    "        val = self.array[self.tail]\n",
    "        self.array[self.tail] = None\n",
    "        return val\n",
    "    \n",
    "    def peek_head(self):\n",
    "        return self.array[self.head]\n",
    "    \n",
    "    def peek_left(self):\n",
    "        return self.array[self.get_mod(self.tail-1)]\n",
    "    \n",
    "    def __len__(self):\n",
    "        return (self.tail + self.max_size - self.head) % self.max_size\n",
    "        \n",
    "    def is_full(self, ):\n",
    "        return (self.tail + 1) % self.max_size == self.head\n",
    "    \n",
    "    def is_empty(self, ):\n",
    "        return self.head == self.tail\n",
    "    \n",
    "    def expand(self, ):\n",
    "        # double array size each time\n",
    "        new_array = [None] * self.max_size * 2\n",
    "        k = 0\n",
    "        \n",
    "        # copy value at index of head to the end to new array \n",
    "        for i in range(self.head, self.max_size):\n",
    "            new_array[k] = self.array[i]\n",
    "            k += 1\n",
    "        # copy the value located before head to new array\n",
    "        for i in range(self.head):\n",
    "            new_array[k] = self.array[i]\n",
    "            k += 1\n",
    "        \n",
    "        self.array = new_array\n",
    "        self.head = 0\n",
    "        self.tail = self.max_size\n",
    "        self.max_size = self.max_size * 2\n",
    "    \n",
    "        return \n",
    "    \n",
    "    def clear(self,):\n",
    "        head = self.head\n",
    "        tail = self.tail\n",
    "        \n",
    "        while head != tail:\n",
    "            self.array[head] = None\n",
    "            head = self.get_mod(head+1)\n",
    "        self.head = 0\n",
    "        self.tail = 0\n",
    "    "
   ]
  },
  {
   "cell_type": "code",
   "execution_count": null,
   "metadata": {},
   "outputs": [],
   "source": []
  },
  {
   "cell_type": "markdown",
   "metadata": {},
   "source": [
    "模板四 双端队列（链表实现）\n",
    "="
   ]
  },
  {
   "cell_type": "code",
   "execution_count": null,
   "metadata": {},
   "outputs": [],
   "source": [
    "class ListNode(object):\n",
    "    def __init__(self, val=None, next=None, prev=None):\n",
    "        self.val = val\n",
    "        self.next = next\n",
    "        self.prev = prev\n",
    "        \n",
    "class Deque(object):\n",
    "    def __init__(self):\n",
    "        self.size = 0\n",
    "        self.head = ListNode()\n",
    "        self.tail = ListNode()\n",
    "        self.head.next = self.tail\n",
    "        self.tail.prev = self.head\n",
    "        \n",
    "    def append(self, val):\n",
    "        node = ListNode(val, self.tail, self.tail.prev)\n",
    "        self.size += 1\n",
    "        self.tail.prev.next = node\n",
    "        self.tail.prev = node\n",
    "        \n",
    "        return \n",
    "    \n",
    "    def append_left(self, val):\n",
    "        node = ListNode(val, self.head.next, self.head)\n",
    "        self.size += 1\n",
    "        self.head.next.prev = node\n",
    "        self.head.next = node\n",
    "        \n",
    "        return \n",
    "    \n",
    "    def pop(self, ):\n",
    "        if self.is_empty():\n",
    "            return None\n",
    "        node = self.tail.prev \n",
    "        node.prev.next = self.tail\n",
    "        self.tail.prev = node.prev\n",
    "        self.size -= 1\n",
    "        return node.val\n",
    "    \n",
    "    def pop_left(self, ):\n",
    "        if self.is_empty():\n",
    "            return None\n",
    "        \n",
    "        self.size -= 1\n",
    "        node = self.head.next\n",
    "        self.head.next = node.next\n",
    "        node.next.prev = self.head\n",
    "        \n",
    "        return node.val\n",
    "        \n",
    "    def is_empty():\n",
    "        return self.size == 0"
   ]
  },
  {
   "cell_type": "markdown",
   "metadata": {},
   "source": [
    "单调栈\n",
    "=\n",
    "递减栈 （自底向顶）\n",
    "栈底为包括当前元素，已遍历元素的最大值\n",
    "添加当前元素之前的栈顶为不包括当前元素时，已遍历元素的第一个大于当前值的元素"
   ]
  },
  {
   "cell_type": "code",
   "execution_count": null,
   "metadata": {},
   "outputs": [],
   "source": [
    "def get_stack(nums):\n",
    "\n",
    "    stack = []\n",
    "    for num in nums:\n",
    "        while stack and num > stack[-1]:\n",
    "            stack.pop()\n",
    "        stack.append(num)\n"
   ]
  },
  {
   "cell_type": "markdown",
   "metadata": {},
   "source": [
    "递增栈 （自底向顶）\n",
    "栈底为包括当前元素，已遍历元素的最小值\n",
    "添加当前元素之前的栈顶为不包括当前元素时，已遍历元素的第一个小于当前值的元素"
   ]
  },
  {
   "cell_type": "code",
   "execution_count": null,
   "metadata": {},
   "outputs": [],
   "source": [
    "def get_stack(nums):\n",
    "\n",
    "    stack = []\n",
    "    for num in nums:\n",
    "        while stack and num < stack[-1]:\n",
    "            stack.pop()\n",
    "        stack.append(num)"
   ]
  },
  {
   "cell_type": "code",
   "execution_count": null,
   "metadata": {},
   "outputs": [],
   "source": []
  },
  {
   "cell_type": "code",
   "execution_count": null,
   "metadata": {},
   "outputs": [],
   "source": []
  }
 ],
 "metadata": {
  "kernelspec": {
   "display_name": "Python 3",
   "language": "python",
   "name": "python3"
  },
  "language_info": {
   "codemirror_mode": {
    "name": "ipython",
    "version": 3
   },
   "file_extension": ".py",
   "mimetype": "text/x-python",
   "name": "python",
   "nbconvert_exporter": "python",
   "pygments_lexer": "ipython3",
   "version": "3.8.3"
  }
 },
 "nbformat": 4,
 "nbformat_minor": 4
}
