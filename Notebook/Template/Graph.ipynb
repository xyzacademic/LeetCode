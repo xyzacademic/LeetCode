{
 "cells": [
  {
   "cell_type": "markdown",
   "metadata": {
    "pycharm": {
     "name": "#%% md\n"
    }
   },
   "source": [
    "图\n",
    "=\n",
    "\n"
   ]
  },
  {
   "cell_type": "markdown",
   "metadata": {
    "pycharm": {
     "name": "#%% md\n"
    }
   },
   "source": [
    "最小生成树\n",
    "="
   ]
  },
  {
   "cell_type": "markdown",
   "metadata": {
    "pycharm": {
     "name": "#%% md\n"
    }
   },
   "source": [
    "Kruskal\n",
    "=\n",
    "把加权边按升序排序，依次加入集合直到覆盖所有顶点（闭环边不加入）适合边少的稀疏图\n",
    "\n",
    "时间复杂度\n",
    "O(ElogE)O(ElogE)。\n",
    "\n",
    "EE 表示边数。\n",
    "\n",
    "空间复杂度\n",
    "O(V)O(V)。\n",
    "\n",
    "VV 表示顶点数。\n",
    "\n",
    "\n",
    "1、初始化生成树的边集A为空集：O（1）\n",
    "\n",
    "2、对集合中的每一个顶点，都将它的集合初始化为自身：O（V）\n",
    "\n",
    "4、将边按权值进行排序：O（ElogE）\n",
    "\n",
    "5、对排序好后的边从小到大进行判断，如果这条边所连的2个顶点不在同一个集合中，则将这条边加入到生成树的边集A中，并将此边所连的两个顶点u和v的集合做一个Union操作，如此循环加到生成树中的边集数量为n-1时停止：O（V+E）α（V）\n",
    "其中查询find V条边用O(E)*α（V）,union执行V次，O(V)*α（V）\n",
    "\n",
    "————————————————\n",
    "版权声明：本文为CSDN博主「z-k」的原创文章，遵循CC 4.0 BY-SA版权协议，转载请附上原文出处链接及本声明。\n",
    "原文链接：https://blog.csdn.net/weixin_40673608/article/details/85308236"
   ]
  },
  {
   "cell_type": "code",
   "execution_count": 2,
   "metadata": {
    "pycharm": {
     "name": "#%%\n"
    }
   },
   "outputs": [],
   "source": [
    "class UnionFind:\n",
    "    def __init__(self, size):\n",
    "        self.part = size\n",
    "        self.parent = list(range(size))\n",
    "        self.size = [1] * self.part \n",
    "\n",
    "    def find(self, x):\n",
    "        r = x\n",
    "        while self.parent[x] != x:\n",
    "            x = self.parent[x]\n",
    "        \n",
    "        while r != x:\n",
    "            self.parent[r], r = x, self.parent[r]\n",
    "        return x\n",
    "\n",
    "    def union(self, x, y):\n",
    "        rootx, rooty = self.find(x), self.find(y)\n",
    "        if rootx == rooty:\n",
    "            return False \n",
    "        \n",
    "        if self.size[rootx] > self.size[rooty]:\n",
    "            rootx, rooty = rooty, rootx \n",
    "        self.parent[rootx] = rooty\n",
    "        self.size[rooty] += self.size[rootx]\n",
    "        self.part -= 1\n",
    "\n",
    "        return True\n",
    "\n",
    "\n",
    "\n",
    "class Solution:\n",
    "    def minCostConnectPoints(self, points) -> int:\n",
    "\n",
    "        n = len(points)\n",
    "        def distance(x, y):\n",
    "            return abs(x[0]-y[0]) + abs(x[1]-y[1])\n",
    "        \n",
    "        edges = []\n",
    "\n",
    "        for row in range(n-1):\n",
    "            for col in range(row+1, n):\n",
    "                x = points[row]\n",
    "                y = points[col]\n",
    "                edges.append((distance(x, y), row, col))\n",
    "        \n",
    "        edges.sort()\n",
    "        ufs = UnionFind(n)\n",
    "        total_distance = 0\n",
    "        # visited = set()\n",
    "        for edge in edges:\n",
    "            dis, x, y = edge \n",
    "            if ufs.union(x, y):\n",
    "                total_distance += dis \n",
    "                if ufs.part == 1:\n",
    "                    return total_distance \n",
    "        \n",
    "        return total_distance"
   ]
  },
  {
   "cell_type": "markdown",
   "metadata": {
    "pycharm": {
     "name": "#%% md\n"
    }
   },
   "source": [
    "Prim\n",
    "=\n",
    "\n",
    "普通二叉堆： O(ElogV)。\n",
    "\n",
    "斐波那契堆：O(E+VlogV)。\n",
    "\n",
    "V 表示顶点数，E 表示边数。"
   ]
  },
  {
   "cell_type": "code",
   "execution_count": 5,
   "metadata": {
    "pycharm": {
     "name": "#%%\n"
    }
   },
   "outputs": [],
   "source": [
    "class Solution:\n",
    "    def minCostConnectPoints(self, points) -> int:\n",
    "\n",
    "        table = {}\n",
    "        n = len(points)\n",
    "        def get_distance(x, y):\n",
    "            return abs(x[0]-y[0]) + abs(x[1]-y[1])\n",
    "        \n",
    "        for i in range(n-1):\n",
    "            for j in range(i+1, n):\n",
    "                dis = get_distance(points[i], points[j])\n",
    "                if i not in table:\n",
    "                    table[i] = {}\n",
    "                if j not in table:\n",
    "                    table[j] = {}\n",
    "                table[i][j] = dis \n",
    "                table[j][i] = dis \n",
    "\n",
    "\n",
    "        print(table)\n",
    "\n",
    "        pq = [(0, 0)]  # init_cost, init_vertex\n",
    "        total_cost = 0\n",
    "        visited = set()\n",
    "        while len(pq):\n",
    "            tmp_cost, vertex = heappop(pq)\n",
    "            if vertex in visited:\n",
    "                continue \n",
    "\n",
    "            visited.add(vertex)\n",
    "            total_cost += tmp_cost \n",
    "            # print(vertex)\n",
    "            # print(table[vertex])\n",
    "           \n",
    "            for next_vertex, next_cost in table[vertex].items():\n",
    "                if next_vertex not in visited:\n",
    "                    heappush(pq, (next_cost, next_vertex))\n",
    "            if len(visited) == n:\n",
    "                break\n",
    "        \n",
    "        return total_cost"
   ]
  },
  {
   "cell_type": "markdown",
   "metadata": {
    "pycharm": {
     "name": "#%% md\n"
    }
   },
   "source": [
    "Dijkstra\n",
    "=\n",
    "\n",
    "「Dijkstra 算法」解决的是加权有向图「单源最短路径」问题，其中该图的所有权重必须为非负数。\n",
    "时间复杂度：O(m\\log m)O(mlogm)，其中 mm 是数组 \\textit{times}times 的长度。\n",
    "\n",
    "空间复杂度：O(n+m)O(n+m)。\n",
    "\n",
    "作者：LeetCode-Solution\n",
    "链接：https://leetcode-cn.com/problems/network-delay-time/solution/wang-luo-yan-chi-shi-jian-by-leetcode-so-6phc/\n",
    "来源：力扣（LeetCode）\n",
    "著作权归作者所有。商业转载请联系作者获得授权，非商业转载请注明出处。"
   ]
  },
  {
   "cell_type": "code",
   "execution_count": null,
   "metadata": {
    "pycharm": {
     "name": "#%%\n"
    }
   },
   "outputs": [],
   "source": [
    "class Solution:\n",
    "    def networkDelayTime(self, times: List[List[int]], n: int, k: int) -> int:\n",
    "\n",
    "        table = {}\n",
    "        for u, v, w in times:\n",
    "            if u not in table:\n",
    "                table[u] = {}\n",
    "            table[u][v] = w\n",
    "    \n",
    "        distance = [float('inf')] * n\n",
    "        distance[k-1] = 0\n",
    "        # print(table)\n",
    "        pq = [(0, k)]\n",
    "\n",
    "        while len(pq):\n",
    "            current_distance, current_vertex = heappop(pq)\n",
    "            if current_vertex in table:\n",
    "                for vertex, temp_distance in table[current_vertex].items():\n",
    "                    if current_distance + temp_distance < distance[vertex-1]:\n",
    "                        distance[vertex-1] = current_distance + temp_distance\n",
    "                        heappush(pq, (distance[vertex-1], vertex))\n",
    "        max_d = max(distance)\n",
    "        return max_d if max_d < float('inf') else -1"
   ]
  },
  {
   "cell_type": "markdown",
   "metadata": {
    "pycharm": {
     "name": "#%% md\n"
    }
   },
   "source": [
    "Bellman-Ford\n",
    "=\n",
    "时间复杂度O(NE) N 为顶点个数（从起点到终点最多经过N-1条边，所以外循环执行N-1次，额外一次为检测负环），E为边数"
   ]
  },
  {
   "cell_type": "code",
   "execution_count": null,
   "metadata": {
    "pycharm": {
     "name": "#%%\n"
    }
   },
   "outputs": [],
   "source": [
    "        distance = [float('inf')] * n\n",
    "        prev = [float('inf')] * n\n",
    "        table = [{} for _ in range(n)]\n",
    "        distance[src] = 0\n",
    "        prev[src] = 0\n",
    "        # print(distance[dst])\n",
    "        for source, target, cost in flights:\n",
    "            table[source][target] = cost \n",
    "\n",
    "        \n",
    "        for i in range(k+1):\n",
    "            for source, target, cost in flights:\n",
    "                # print(prev[source], cost, )\n",
    "                if prev[source] + cost < distance[target]:\n",
    "                    distance[target] = prev[source] + cost \n",
    "                # print(prev[source], cost, distance[target])\n",
    "            prev = distance.copy()\n",
    "        return distance[dst] if distance[dst] < float('inf') else -1"
   ]
  },
  {
   "cell_type": "markdown",
   "metadata": {
    "pycharm": {
     "name": "#%% md\n"
    }
   },
   "source": [
    "Bellman-Ford (SPFA 队列版)\n",
    "=\n",
    "\n",
    "PFA的复杂度大约是O(kE),k是每个点的平均进队次数(一般的，k是一个常数，在稀疏图中小于2)"
   ]
  },
  {
   "cell_type": "code",
   "execution_count": null,
   "metadata": {
    "pycharm": {
     "name": "#%%\n"
    }
   },
   "outputs": [],
   "source": [
    "n, m = map(int, input().split())\n",
    "N = n + 1\n",
    "from collections import deque, defaultdict\n",
    "g = defaultdict(list)\n",
    "dmax = 1 << 30\n",
    "dist = [dmax] * N\n",
    "cnt = [0] * N \n",
    "st = [False] * N \n",
    "\n",
    "for i in range(m):\n",
    "    a, b, c = map(int, input().split())\n",
    "    g[a].append([b, c])\n",
    "\n",
    "def spfa():\n",
    "    q = deque()\n",
    "    for i in range(1, n + 1):\n",
    "        q.append(i)\n",
    "        st[i] = True\n",
    "\n",
    "    while q:\n",
    "        i = q.popleft()\n",
    "        st[i] = False \n",
    "\n",
    "        for j, d in g[i]:\n",
    "            if dist[j] > dist[i] + d:\n",
    "                dist[j] = dist[i] + d \n",
    "                cnt[j] += 1\n",
    "                if cnt[j] >= n:\n",
    "                    return True\n",
    "                if not st[j]:\n",
    "                    q.append(j)\n",
    "                    st[j] = True\n",
    "    return False\n",
    "\n",
    "if spfa():\n",
    "    print('Yes')\n",
    "else:\n",
    "    print('No')\n",
    "\n",
    "作者：弈剑观星\n",
    "链接：https://www.acwing.com/solution/content/51507/\n",
    "来源：AcWing\n",
    "著作权归作者所有。商业转载请联系作者获得授权，非商业转载请注明出处。"
   ]
  }
 ],
 "metadata": {
  "kernelspec": {
   "display_name": "Python 3",
   "language": "python",
   "name": "python3"
  },
  "language_info": {
   "codemirror_mode": {
    "name": "ipython",
    "version": 3
   },
   "file_extension": ".py",
   "mimetype": "text/x-python",
   "name": "python",
   "nbconvert_exporter": "python",
   "pygments_lexer": "ipython3",
   "version": "3.8.3"
  }
 },
 "nbformat": 4,
 "nbformat_minor": 4
}