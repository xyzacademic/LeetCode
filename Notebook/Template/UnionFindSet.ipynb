{
 "cells": [
  {
   "cell_type": "markdown",
   "metadata": {
    "pycharm": {
     "name": "#%% md\n"
    }
   },
   "source": [
    "并查集\n",
    "=\n",
    "\n",
    "在计算机科学中，并查集 是一种树形的数据结构，用于处理不交集的合并(union)及查询(find)问题。\n",
    "\n",
    "并查集 可用于查询 网络 中两个节点的状态， 这里的网络是一个抽象的概念， 不仅仅指互联网中的网络， 也可以是人际关系的网络、交通网络等。\n",
    "\n",
    "并查集 除了可以用于查询 网络 中两个节点的状态， 还可以用于数学中集合相关的操作， 如求两个集合的并集等。\n",
    "\n",
    "并查集 对于查询两个节点的 连接状态 非常高效。对于两个节点是否相连，也可以通过求解 查询路径 来解决， 也就是说如果两个点的连接路径都求出来了，自然也就知道两个点是否相连了，但是如果仅仅想知道两个点是否相连，使用 路径问题 来处理效率会低一些，并查集 就是一个很好的选择。\n",
    "\n",
    "在我们使用 Quick Union 版本的并查集使用树形结构来组织节点的关系。\n",
    "\n",
    "那么性能跟树的深度有关系，简称 O(h)，以前介绍二分搜索树的时候，时间复杂度也是为 O(h)。\n",
    "\n",
    "但是并查集并不是一个二叉树，而是一个多叉树，所以并查集的查询和合并时间复杂度并不是O(log n)\n",
    "\n",
    "在加上rank和路径压缩优化后 ，并查集的时间复杂度为 O(log* n)\n",
    "\n",
    "log* n的数学定义：\n",
    "\n",
    "————————————————\n",
    "版权声明：本文为CSDN博主「Chiclaim」的原创文章，遵循CC 4.0 BY-SA版权协议，转载请附上原文出处链接及本声明。\n",
    "原文链接：https://blog.csdn.net/yuzhiqiang666/article/details/80721436"
   ]
  },
  {
   "cell_type": "code",
   "execution_count": null,
   "metadata": {
    "pycharm": {
     "name": "#%%\n"
    }
   },
   "outputs": [],
   "source": [
    "class UnionFindSet(object):\n",
    "    def __init__(self, n):\n",
    "        self.n = n\n",
    "        self.part = n\n",
    "        self.parent = [i for i in range(n)]\n",
    "        self.size = [1] * n\n",
    "        \n",
    "    def find(self, x):\n",
    "        r = x \n",
    "        while self.parent[x] != x:\n",
    "            x = self.parent[x]\n",
    "        \n",
    "        while r != x:\n",
    "            self.parent[r], r = x, self.parent[r]\n",
    "            \n",
    "        return x\n",
    "    \n",
    "    def union(self, x, y):\n",
    "        root_x, root_y = self.find(x), self.find(y)\n",
    "        \n",
    "        if root_x == root_y:\n",
    "            return False \n",
    "        \n",
    "        if self.size[root_x] > self.size[root_y]\n",
    "        root_x, root_y = root_y, root_x \n",
    "        \n",
    "        self.size[root_y] += self.size[root_x]\n",
    "        self.parent[root_x] = root_y\n",
    "        self.part -= 1\n",
    "        \n",
    "        return True\n",
    "    \n",
    "    def is_connected(self, x, y):\n",
    "        return self.find(x) == self.find(y)\n",
    "    \n",
    "    def get_part_size(self, x):\n",
    "        return self.size[self.find(x)]\n",
    "        "
   ]
  }
 ],
 "metadata": {
  "kernelspec": {
   "display_name": "Python 3",
   "language": "python",
   "name": "python3"
  },
  "language_info": {
   "codemirror_mode": {
    "name": "ipython",
    "version": 3
   },
   "file_extension": ".py",
   "mimetype": "text/x-python",
   "name": "python",
   "nbconvert_exporter": "python",
   "pygments_lexer": "ipython3",
   "version": "3.8.3"
  }
 },
 "nbformat": 4,
 "nbformat_minor": 4
}