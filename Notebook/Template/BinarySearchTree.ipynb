{
 "cells": [
  {
   "cell_type": "markdown",
   "metadata": {
    "pycharm": {
     "name": "#%% md\n"
    }
   },
   "source": [
    "二叉搜索树\n",
    "=\n",
    "像普通的二叉树一样，我们可以按照前序、中序和后序来遍历一个二叉搜索树。 但是值得注意的是，对于二叉搜索树，我们可以通过中序遍历得到一个递增的有序序列。因此，中序遍历是二叉搜索树中最常用的遍历方法。\n",
    "\n",
    "作者：力扣 (LeetCode)\n",
    "链接：https://leetcode-cn.com/leetbook/read/introduction-to-data-structure-binary-search-tree/xp6fkc/\n",
    "来源：力扣（LeetCode）\n",
    "著作权归作者所有。商业转载请联系作者获得授权，非商业转载请注明出处。"
   ]
  },
  {
   "cell_type": "markdown",
   "metadata": {
    "pycharm": {
     "name": "#%% md\n"
    }
   },
   "source": [
    "验证二叉搜索树\n",
    "="
   ]
  },
  {
   "cell_type": "code",
   "execution_count": 4,
   "metadata": {
    "pycharm": {
     "name": "#%%\n"
    }
   },
   "outputs": [],
   "source": [
    "    class TreeNode:\n",
    "        def __init__(self, val=0, left=None, right=None):\n",
    "            self.val = val\n",
    "            self.left = left\n",
    "            self.right = right\n",
    "    def isValidBST(self, root: TreeNode) -> bool:\n",
    "\n",
    "        prev = -float('inf')\n",
    "\n",
    "        stack = [root]\n",
    "        node = root\n",
    "        while stack:\n",
    "            while node.left:\n",
    "                stack.append(node.left)\n",
    "                node = node.left \n",
    "            head = stack.pop()\n",
    "            if head.val <= prev:\n",
    "                return False \n",
    "            else:\n",
    "                prev = head.val \n",
    "            if head.right:\n",
    "                stack.append(head.right)\n",
    "                node = head.right \n",
    "        \n",
    "        return True"
   ]
  },
  {
   "cell_type": "markdown",
   "metadata": {
    "pycharm": {
     "name": "#%% md\n"
    }
   },
   "source": [
    "搜索\n",
    "=\n",
    "时间复杂度：\\mathcal{O}(H)O(H)，其中 HH 是树高。平均时间复杂度为 \\mathcal{O}(\\log N)O(logN)，最坏时间复杂度为 \\mathcal{O}(N)O(N)\n",
    "\n",
    "作者：LeetCode\n",
    "链接：https://leetcode-cn.com/problems/search-in-a-binary-search-tree/solution/er-cha-sou-suo-shu-zhong-de-sou-suo-by-leetcode/\n",
    "来源：力扣（LeetCode）\n",
    "著作权归作者所有。商业转载请联系作者获得授权，非商业转载请注明出处。"
   ]
  },
  {
   "cell_type": "code",
   "execution_count": 5,
   "metadata": {
    "pycharm": {
     "name": "#%%\n"
    }
   },
   "outputs": [],
   "source": [
    "class TreeNode:\n",
    "    def __init__(self, val=0, left=None, right=None):\n",
    "        self.val = val\n",
    "        self.left = left\n",
    "        self.right = right\n",
    "class Solution:\n",
    "    def searchBST(self, root: TreeNode, val: int) -> TreeNode:\n",
    "\n",
    "        while root:\n",
    "            if root.val == val:\n",
    "                return root \n",
    "            elif val > root.val:\n",
    "                root = root.right \n",
    "            else:\n",
    "                root = root.left\n",
    "        \n",
    "        return None"
   ]
  },
  {
   "cell_type": "markdown",
   "metadata": {
    "pycharm": {
     "name": "#%% md\n"
    }
   },
   "source": [
    "插入\n",
    "=\n",
    "时间复杂度：O(N)O(N)，其中 NN 为树中节点的数目。最坏情况下，我们需要将值插入到树的最深的叶子结点上，而叶子节点最深为 O(N)O(N)。\n",
    "\n",
    "空间复杂度：O(1)O(1)。我们只使用了常数大小的空间\n",
    "\n",
    "作者：LeetCode-Solution\n",
    "链接：https://leetcode-cn.com/problems/insert-into-a-binary-search-tree/solution/er-cha-sou-suo-shu-zhong-de-cha-ru-cao-zuo-by-le-3/\n",
    "来源：力扣（LeetCode）\n",
    "著作权归作者所有。商业转载请联系作者获得授权，非商业转载请注明出处。"
   ]
  },
  {
   "cell_type": "code",
   "execution_count": 6,
   "metadata": {
    "pycharm": {
     "name": "#%%\n"
    }
   },
   "outputs": [],
   "source": [
    "class TreeNode:\n",
    "    def __init__(self, val=0, left=None, right=None):\n",
    "        self.val = val\n",
    "        self.left = left\n",
    "        self.right = right\n",
    "class Solution:\n",
    "    def insertIntoBST(self, root: TreeNode, val: int) -> TreeNode:\n",
    "        tmp = root \n",
    "        if not tmp:\n",
    "            return TreeNode(val)\n",
    "        while tmp:\n",
    "            if val > tmp.val:\n",
    "                if tmp.right: \n",
    "                    tmp = tmp.right\n",
    "                else:\n",
    "                    tmp.right = TreeNode(val)\n",
    "                    return root\n",
    "            else:\n",
    "                if tmp.left:\n",
    "                    tmp = tmp.left \n",
    "                else:\n",
    "                    tmp.left = TreeNode(val)\n",
    "                    return root\n",
    "\n",
    "        return root"
   ]
  },
  {
   "cell_type": "markdown",
   "metadata": {
    "pycharm": {
     "name": "#%% md\n"
    }
   },
   "source": [
    "删除\n",
    "=\n",
    "算法：\n",
    "\n",
    "如果 key > root.val，说明要删除的节点在右子树，root.right = deleteNode(root.right, key)。\n",
    "如果 key < root.val，说明要删除的节点在左子树，root.left = deleteNode(root.left, key)。\n",
    "如果 key == root.val，则该节点就是我们要删除的节点，则：\n",
    "如果该节点是叶子节点，则直接删除它：root = null。\n",
    "如果该节点不是叶子节点且有右节点，则用它的后继节点的值替代 root.val = successor.val，然后删除后继节点。\n",
    "如果该节点不是叶子节点且只有左节点，则用它的前驱节点的值替代 root.val = predecessor.val，然后删除前驱节点。\n",
    "\n",
    "时间复杂度：\\mathcal{O}(\\log N)O(logN)。在算法的执行过程中，我们一直在树上向左或向右移动。首先先用 \\mathcal{O}(H_1)O(H \n",
    "1\n",
    "​\n",
    " ) 的时间找到要删除的节点，H_1H \n",
    "1\n",
    "​\n",
    "  值得是从根节点到要删除节点的高度。然后删除节点需要 \\mathcal{O}(H_2)O(H \n",
    "2\n",
    "​\n",
    " ) 的时间，H_2H \n",
    "2\n",
    "​\n",
    "  指的是从要删除节点到替换节点的高度。由于 \\mathcal{O}(H_1 + H_2) = \\mathcal{O}(H)O(H \n",
    "1\n",
    "​\n",
    " +H \n",
    "2\n",
    "​\n",
    " )=O(H)，HH 值得是树的高度，若树是一个平衡树则 HH = \\log NlogN。\n",
    "空间复杂度：\\mathcal{O}(H)O(H)，递归时堆栈使用的空间，HH 是树的高度。\n",
    "\n",
    "作者：LeetCode\n",
    "链接：https://leetcode-cn.com/problems/delete-node-in-a-bst/solution/shan-chu-er-cha-sou-suo-shu-zhong-de-jie-dian-by-l/\n",
    "来源：力扣（LeetCode）\n",
    "著作权归作者所有。商业转载请联系作者获得授权，非商业转载请注明出处。"
   ]
  },
  {
   "cell_type": "code",
   "execution_count": null,
   "metadata": {
    "pycharm": {
     "name": "#%%\n"
    }
   },
   "outputs": [],
   "source": [
    "class Solution:\n",
    "    def deleteNode(self, root: Optional[TreeNode], key: int) -> Optional[TreeNode]:\n",
    "        # head = root \n",
    "        def successor(root):\n",
    "            tmp = root.right \n",
    "            while tmp.left:\n",
    "                tmp = tmp.left \n",
    "            return tmp.val \n",
    "\n",
    "        def predecessor(root):\n",
    "            tmp = root.left \n",
    "            while tmp.right:\n",
    "                tmp = tmp.right \n",
    "            return tmp.val\n",
    "\n",
    "        if not root:\n",
    "            return None\n",
    "\n",
    "        if key > root.val:\n",
    "            root.right = self.deleteNode(root.right, key)\n",
    "        elif key < root.val:\n",
    "            root.left = self.deleteNode(root.left, key)\n",
    "        else:\n",
    "            if not root.left and not root.right:\n",
    "                root = None \n",
    "            elif root.right:\n",
    "                root.val = successor(root)\n",
    "                root.right = self.deleteNode(root.right, root.val)\n",
    "            else:\n",
    "                root.val = predecessor(root)\n",
    "                root.left = self.deleteNode(root.left, root.val)\n",
    "        \n",
    "        return root"
   ]
  },
  {
   "cell_type": "code",
   "execution_count": null,
   "metadata": {
    "pycharm": {
     "name": "#%%\n"
    }
   },
   "outputs": [],
   "source": []
  },
  {
   "cell_type": "code",
   "execution_count": null,
   "metadata": {
    "pycharm": {
     "name": "#%%\n"
    }
   },
   "outputs": [],
   "source": []
  },
  {
   "cell_type": "code",
   "execution_count": null,
   "metadata": {
    "pycharm": {
     "name": "#%%\n"
    }
   },
   "outputs": [],
   "source": []
  },
  {
   "cell_type": "code",
   "execution_count": null,
   "metadata": {
    "pycharm": {
     "name": "#%%\n"
    }
   },
   "outputs": [],
   "source": []
  },
  {
   "cell_type": "code",
   "execution_count": null,
   "metadata": {
    "pycharm": {
     "name": "#%%\n"
    }
   },
   "outputs": [],
   "source": []
  },
  {
   "cell_type": "code",
   "execution_count": null,
   "metadata": {
    "pycharm": {
     "name": "#%%\n"
    }
   },
   "outputs": [],
   "source": []
  }
 ],
 "metadata": {
  "kernelspec": {
   "display_name": "Python 3",
   "language": "python",
   "name": "python3"
  },
  "language_info": {
   "codemirror_mode": {
    "name": "ipython",
    "version": 3
   },
   "file_extension": ".py",
   "mimetype": "text/x-python",
   "name": "python",
   "nbconvert_exporter": "python",
   "pygments_lexer": "ipython3",
   "version": "3.8.3"
  }
 },
 "nbformat": 4,
 "nbformat_minor": 4
}