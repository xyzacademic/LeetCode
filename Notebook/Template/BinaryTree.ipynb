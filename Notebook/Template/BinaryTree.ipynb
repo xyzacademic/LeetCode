{
 "cells": [
  {
   "cell_type": "markdown",
   "metadata": {},
   "source": [
    "树\n",
    "="
   ]
  },
  {
   "cell_type": "markdown",
   "metadata": {},
   "source": [
    "遍历\n",
    "="
   ]
  },
  {
   "cell_type": "markdown",
   "metadata": {},
   "source": [
    "前序遍历 （递归）\n"
   ]
  },
  {
   "cell_type": "code",
   "execution_count": null,
   "metadata": {},
   "outputs": [],
   "source": [
    "results = []\n",
    "\n",
    "def preorder_traversal(root):\n",
    "    results.append(root)\n",
    "    if root.left:\n",
    "        preorder_traversal(root.left)\n",
    "    if root.right:\n",
    "        preorder_traversal(root.right)\n",
    "    return\n",
    "    "
   ]
  },
  {
   "cell_type": "markdown",
   "metadata": {},
   "source": [
    "前序遍历 （栈）"
   ]
  },
  {
   "cell_type": "code",
   "execution_count": null,
   "metadata": {},
   "outputs": [],
   "source": [
    "results = []\n",
    "\n",
    "def preorder_traversal(root):\n",
    "    stack = [root]\n",
    "    while stack:\n",
    "        node = stack.pop()\n",
    "        results.append(node)\n",
    "        if node.right:\n",
    "            stack.append(node.right)\n",
    "        if node.left:\n",
    "            stack.append(node.left)\n",
    "    return"
   ]
  },
  {
   "cell_type": "markdown",
   "metadata": {},
   "source": [
    "中序遍历 （递归）\n"
   ]
  },
  {
   "cell_type": "code",
   "execution_count": null,
   "metadata": {},
   "outputs": [],
   "source": [
    "results = []\n",
    "\n",
    "def inorder_traversal(root):\n",
    "    \n",
    "    if root.left:\n",
    "        inorder_traversal(root.left)\n",
    "        \n",
    "    results.append(root)\n",
    "    \n",
    "    if root.right:\n",
    "        inorder_traversal(root.right)\n",
    "    return"
   ]
  },
  {
   "cell_type": "markdown",
   "metadata": {},
   "source": [
    "中序遍历 （栈）\n"
   ]
  },
  {
   "cell_type": "code",
   "execution_count": null,
   "metadata": {},
   "outputs": [],
   "source": [
    "results = []\n",
    "\n",
    "def inorderTraversal(self, root: TreeNode) -> List[int]:\n",
    "    results = []\n",
    "    if not root:\n",
    "        return results\n",
    "    stack = [root]\n",
    "    head = root\n",
    "    while stack:\n",
    "        while head.left:\n",
    "            stack.append(head.left)\n",
    "            head = head.left\n",
    "        node = stack.pop()\n",
    "        results.append(node.val)\n",
    "        if node.right:\n",
    "            stack.append(node.right)\n",
    "            head = node.right\n",
    "\n",
    "    return results"
   ]
  },
  {
   "cell_type": "markdown",
   "metadata": {},
   "source": [
    "后序遍历 （递归）\n"
   ]
  },
  {
   "cell_type": "code",
   "execution_count": null,
   "metadata": {},
   "outputs": [],
   "source": [
    "results = []\n",
    "\n",
    "def postorder_traversal(root):\n",
    "    \n",
    "    if root.left:\n",
    "        postorder_traversal(root.left)\n",
    "        \n",
    "    if root.right:\n",
    "        postorder_traversal(root.right)\n",
    "        \n",
    "    results.append(root)\n",
    "    return"
   ]
  },
  {
   "cell_type": "markdown",
   "metadata": {},
   "source": [
    "后序遍历 （栈）\n"
   ]
  },
  {
   "cell_type": "code",
   "execution_count": null,
   "metadata": {},
   "outputs": [],
   "source": [
    "results = []\n",
    "\n",
    "def postorder_traversal(root):\n",
    "    stack = [root]\n",
    "    head = root\n",
    "    while stack:\n",
    "        cur = stack[-1]\n",
    "        if cur.left and cur.left != head and cur.right != head:\n",
    "            stack.append(cur.left)\n",
    "        elif cur.right and cur.right != head:\n",
    "            stack.append(cur.right)\n",
    "        else:\n",
    "            node = stack.pop()\n",
    "            head = node \n",
    "            results.append(node)\n",
    "    return\n",
    "        "
   ]
  },
  {
   "cell_type": "markdown",
   "metadata": {},
   "source": [
    "层序遍历 （队列）"
   ]
  },
  {
   "cell_type": "code",
   "execution_count": null,
   "metadata": {},
   "outputs": [],
   "source": [
    "results = []\n",
    "from collections import deque\n",
    "def level_traversal(root):\n",
    "    if not root:\n",
    "        return\n",
    "    queue = deque \n",
    "    queue.append(root)\n",
    "    num_nodes = 1 \n",
    "    \n",
    "    while queue:\n",
    "        next_level_nodes = 0\n",
    "\n",
    "        for i in range(num_nodes):\n",
    "            node = queue.popleft()\n",
    "            results.append(node)\n",
    "            if node.left:\n",
    "                queue.append(node.left)\n",
    "                next_level_nodes += 1\n",
    "            if node.right:\n",
    "                queue.append(node.right)\n",
    "                next_level_nodes += 1\n",
    "        \n",
    "        num_nodes = next_level_nodes\n",
    "    \n",
    "    return\n",
    "    "
   ]
  },
  {
   "cell_type": "markdown",
   "metadata": {},
   "source": [
    "二叉树宽度与深度\n",
    "="
   ]
  },
  {
   "cell_type": "code",
   "execution_count": 4,
   "metadata": {},
   "outputs": [],
   "source": [
    "def get_max_depth_recursive(head=None):\n",
    "    \"\"\"\n",
    "    recursive\n",
    "    Time O(n)  have to traversal all nodes\n",
    "    Space O(height)\n",
    "\n",
    "    :param head:\n",
    "    :return:\n",
    "    \"\"\"\n",
    "    if not head:\n",
    "        return 0\n",
    "\n",
    "    return max(get_max_depth_recursive(head.left),\n",
    "               get_max_depth_recursive(head.right)) + 1\n",
    "\n",
    "\n",
    "def get_min_depth_recursive(head=None):\n",
    "    \"\"\"\n",
    "    key point: check if a node is a leaf\n",
    "    time: O(n)\n",
    "    space: O(height)\n",
    "    :param head:\n",
    "    :return:\n",
    "    \"\"\"\n",
    "\n",
    "    if not head:\n",
    "        return 0\n",
    "\n",
    "    # if a node has less than two children, return\n",
    "    # the deeper sub tree's height\n",
    "\n",
    "    if not head.left or not head.right:\n",
    "        return max(get_min_depth_recursive(head.left), \n",
    "                   get_min_depth_recursive(head.right)) + 1\n",
    "\n",
    "    return min(get_min_depth_recursive(head.left), \n",
    "               get_min_depth_recursive(head.right)) + 1\n",
    "\n",
    "\n",
    "def get_max_depth_queue(head=None):\n",
    "\n",
    "    if not head:\n",
    "        return 0\n",
    "\n",
    "    queue = Queue()\n",
    "    queue.enqueue(head)\n",
    "    max_depth = 1\n",
    "    current_width = 1\n",
    "\n",
    "    while not queue.is_empty():\n",
    "        next_level_width = 0\n",
    "\n",
    "        for i in range(current_width):\n",
    "            node = queue.dequeue()\n",
    "\n",
    "            if node.left:\n",
    "                queue.enqueue(node.left)\n",
    "                next_level_width += 1\n",
    "\n",
    "            if node.right:\n",
    "                queue.enqueue(node.right)\n",
    "                next_level_width += 1\n",
    "\n",
    "        current_width = next_level_width\n",
    "        if next_level_width:\n",
    "            max_depth += 1\n",
    "\n",
    "    return max_depth\n",
    "\n",
    "\n",
    "def get_min_depth_queue(head=None):\n",
    "    \"\"\"\n",
    "    return the first leaf\n",
    "    time: O(n)\n",
    "    space: O(n)\n",
    "    :param head:\n",
    "    :return:\n",
    "    \"\"\"\n",
    "\n",
    "    if not head:\n",
    "        return 0\n",
    "\n",
    "    queue = Queue()\n",
    "    queue.enqueue(head)\n",
    "    min_depth = 1\n",
    "    current_level_width = 1\n",
    "\n",
    "    while not queue.is_empty():\n",
    "        next_level_width = 0\n",
    "\n",
    "        for i in range(current_level_width):\n",
    "            node = queue.dequeue()\n",
    "\n",
    "            if node.left:\n",
    "                queue.enqueue(node.left)\n",
    "                next_level_width += 1\n",
    "\n",
    "            if node.right:\n",
    "                queue.enqueue(node.right)\n",
    "                next_level_width += 1\n",
    "\n",
    "            if not node.left and not node.right:\n",
    "                return min_depth\n",
    "\n",
    "        min_depth += 1\n",
    "\n",
    "    return min_depth\n"
   ]
  },
  {
   "cell_type": "code",
   "execution_count": null,
   "metadata": {},
   "outputs": [],
   "source": []
  },
  {
   "cell_type": "code",
   "execution_count": null,
   "metadata": {},
   "outputs": [],
   "source": []
  },
  {
   "cell_type": "code",
   "execution_count": null,
   "metadata": {},
   "outputs": [],
   "source": []
  }
 ],
 "metadata": {
  "kernelspec": {
   "display_name": "Python 3",
   "language": "python",
   "name": "python3"
  },
  "language_info": {
   "codemirror_mode": {
    "name": "ipython",
    "version": 3
   },
   "file_extension": ".py",
   "mimetype": "text/x-python",
   "name": "python",
   "nbconvert_exporter": "python",
   "pygments_lexer": "ipython3",
   "version": "3.8.3"
  }
 },
 "nbformat": 4,
 "nbformat_minor": 4
}
