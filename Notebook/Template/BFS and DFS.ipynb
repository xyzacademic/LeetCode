{
 "cells": [
  {
   "cell_type": "markdown",
   "metadata": {
    "pycharm": {
     "name": "#%% md\n"
    }
   },
   "source": [
    "BFS和队列\n",
    "=\n",
    "广度优先搜索（BFS）的一个常见应用是找出从根结点到目标结点的最短路径。在本文中，我们提供了一个示例来解释在 BFS 算法中是如何逐步应用队列的。"
   ]
  },
  {
   "cell_type": "code",
   "execution_count": 7,
   "metadata": {
    "pycharm": {
     "name": "#%%\n"
    }
   },
   "outputs": [],
   "source": [
    "from collections import deque\n",
    "class Node(object):\n",
    "    def __init__(self, ):\n",
    "        self.neighbors = []\n",
    "\n",
    "def BFS(root, target):\n",
    "    step = 0\n",
    "    visited = set()\n",
    "    queue = deque()\n",
    "    queue.append(root)\n",
    "    visited.add(root)\n",
    "    \n",
    "    while len(queue) > 0:\n",
    "        step = step + 1\n",
    "        size = len(queue)\n",
    "        for i in range(size):\n",
    "            cur = queue.popleft()\n",
    "            if cur == target:\n",
    "                return step\n",
    "            for node in cur.neighbors:\n",
    "                if node not in visited:\n",
    "                    visited.add(node)\n",
    "                    queue.append(node)\n",
    "    return -1\n",
    "    "
   ]
  },
  {
   "cell_type": "code",
   "execution_count": 8,
   "metadata": {
    "pycharm": {
     "name": "#%%\n"
    }
   },
   "outputs": [
    {
     "data": {
      "text/plain": [
       "1"
      ]
     },
     "execution_count": 8,
     "metadata": {},
     "output_type": "execute_result"
    }
   ],
   "source": [
    "\n"
   ]
  },
  {
   "cell_type": "markdown",
   "metadata": {
    "pycharm": {
     "name": "#%% md\n"
    }
   },
   "source": [
    "DFS和栈\n",
    "=\n",
    "与 BFS 类似，`深度优先搜索`（DFS）也可用于查找从根结点到目标结点的路径。在本文中，我们提供了示例来解释 DFS 是如何工作的以及栈是如何逐步帮助 DFS 工作的。\n",
    "\n",
    "如果你想找到最短路径呢？\n",
    "\n",
    "提示：再添加一个参数来指示你已经找到的最短路径"
   ]
  },
  {
   "cell_type": "markdown",
   "metadata": {
    "pycharm": {
     "name": "#%% md\n"
    }
   },
   "source": [
    "模板一 递归\n",
    "="
   ]
  },
  {
   "cell_type": "code",
   "execution_count": 9,
   "metadata": {
    "pycharm": {
     "name": "#%%\n"
    }
   },
   "outputs": [],
   "source": [
    "from collections import deque\n",
    "class Node(object):\n",
    "    def __init__(self, ):\n",
    "        self.neighbors = []\n",
    "        \n",
    "def DFS(current, target, visited):\n",
    "    if current == target:\n",
    "        return True\n",
    "    \n",
    "    for node in current.neighbors:\n",
    "        if node not in visited:\n",
    "            visited.add(node)\n",
    "            if DFS(node, target, visited) is True:\n",
    "                return True\n",
    "    \n",
    "    return False\n",
    "    \n",
    "    "
   ]
  },
  {
   "cell_type": "markdown",
   "metadata": {
    "pycharm": {
     "name": "#%% md\n"
    }
   },
   "source": [
    "递归解决方案的优点是它更容易实现。 但是，存在一个很大的缺点：如果递归的深度太高，你将遭受堆栈溢出。 在这种情况下，您可能会希望使用 BFS，或使用显式栈实现 DFS。\n",
    "\n",
    "模板二\n",
    "="
   ]
  },
  {
   "cell_type": "code",
   "execution_count": null,
   "metadata": {
    "pycharm": {
     "name": "#%%\n"
    }
   },
   "outputs": [],
   "source": [
    "from collections import deque\n",
    "\n",
    "def BFS(root, target):\n",
    "    visited = set()\n",
    "    stack = deque()\n",
    "    stack.append(root)\n",
    "    visited.add(root)\n",
    "    \n",
    "    while len(stack) > 0:\n",
    "        current_node = stack.pop()\n",
    "        if current_node == target:\n",
    "            return True\n",
    "        for node in current_node.neighbors:\n",
    "            if node not in visited:\n",
    "                visited.add(node)\n",
    "                stack.append(node)\n",
    "    \n",
    "    return False"
   ]
  },
  {
   "cell_type": "code",
   "execution_count": null,
   "metadata": {
    "pycharm": {
     "name": "#%%\n"
    }
   },
   "outputs": [],
   "source": []
  },
  {
   "cell_type": "code",
   "execution_count": null,
   "metadata": {
    "pycharm": {
     "name": "#%%\n"
    }
   },
   "outputs": [],
   "source": []
  }
 ],
 "metadata": {
  "kernelspec": {
   "display_name": "Python 3",
   "language": "python",
   "name": "python3"
  },
  "language_info": {
   "codemirror_mode": {
    "name": "ipython",
    "version": 3
   },
   "file_extension": ".py",
   "mimetype": "text/x-python",
   "name": "python",
   "nbconvert_exporter": "python",
   "pygments_lexer": "ipython3",
   "version": "3.8.3"
  }
 },
 "nbformat": 4,
 "nbformat_minor": 4
}