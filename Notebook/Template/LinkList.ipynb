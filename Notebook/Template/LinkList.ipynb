{
 "cells": [
  {
   "cell_type": "markdown",
   "metadata": {},
   "source": [
    "链表\n",
    "=\n",
    "正如我们在概览中提到的那样，链表是一种线性数据结构，它通过引用字段将所有分离的元素链接在一起。有两种常用的链表：单链表和双链表"
   ]
  },
  {
   "cell_type": "code",
   "execution_count": 2,
   "metadata": {},
   "outputs": [],
   "source": [
    "class ListNode(object):\n",
    "    def __init__(self, val=None):\n",
    "        self.val = val\n",
    "        self.next = None"
   ]
  },
  {
   "cell_type": "markdown",
   "metadata": {},
   "source": [
    "获得链表长度\n",
    "="
   ]
  },
  {
   "cell_type": "code",
   "execution_count": 3,
   "metadata": {},
   "outputs": [],
   "source": [
    "def get_length(head):\n",
    "    length = 0\n",
    "    node = head \n",
    "    while node:\n",
    "        length += 1\n",
    "        node = node.next \n",
    "        \n",
    "    return length"
   ]
  },
  {
   "cell_type": "markdown",
   "metadata": {},
   "source": [
    "快慢指针\n",
    "=\n",
    "1. 判断链表中是否存在环\n",
    "它与我们在数组中学到的内容类似。但它可能更棘手而且更容易出错。你应该注意以下几点：\n",
    "\n",
    "1. 在调用 next 字段之前，始终检查节点是否为空。\n",
    "\n",
    "获取空节点的下一个节点将导致空指针错误。例如，在我们运行 fast = fast.next.next 之前，需要检查 fast 和 fast.next 不为空。\n",
    "\n",
    "2. 仔细定义循环的结束条件。\n",
    "\n",
    " "
   ]
  },
  {
   "cell_type": "code",
   "execution_count": null,
   "metadata": {},
   "outputs": [],
   "source": [
    "def hasCycle(self, head: ListNode) -> bool:\n",
    "    if not head or not head.next:\n",
    "        return False\n",
    "\n",
    "    slower = head\n",
    "    faster = head.next\n",
    "\n",
    "    while faster is not None and faster.next is not None:\n",
    "        faster = faster.next.next\n",
    "        slower = slower.next\n",
    "        if faster == slower:\n",
    "            return True\n",
    "\n",
    "    return False"
   ]
  },
  {
   "cell_type": "markdown",
   "metadata": {},
   "source": [
    "翻转链表\n",
    "="
   ]
  },
  {
   "cell_type": "code",
   "execution_count": 3,
   "metadata": {},
   "outputs": [],
   "source": [
    "def reverseList(self, head: ListNode) -> ListNode:\n",
    "\n",
    "    # a b c Null\n",
    "\n",
    "    cur = None\n",
    "    while head:\n",
    "        tmp = head.next  # tmp=b\n",
    "        head.next = cur  # a->None\n",
    "        cur = head  # cur = a\n",
    "        head = tmp  # head = b\n",
    "\n",
    "    return cur"
   ]
  },
  {
   "cell_type": "markdown",
   "metadata": {},
   "source": [
    "删除目标元素值\n",
    "="
   ]
  },
  {
   "cell_type": "code",
   "execution_count": 4,
   "metadata": {},
   "outputs": [],
   "source": [
    "def removeElements(self, head: ListNode, val: int) -> ListNode:\n",
    "\n",
    "    new_head = ListNode()\n",
    "\n",
    "    new_head.next = head \n",
    "    left = new_head \n",
    "\n",
    "    # nh 1 3 4 4 4\n",
    "    while left:\n",
    "        while left.next and left.next.val != val:\n",
    "            left = left.next\n",
    "        right = left.next\n",
    "        while right and right.val == val:\n",
    "            right = right.next \n",
    "        left.next = right \n",
    "        left = right\n",
    "    return new_head.next"
   ]
  },
  {
   "cell_type": "markdown",
   "metadata": {},
   "source": [
    "双向链表\n",
    "=\n"
   ]
  },
  {
   "cell_type": "code",
   "execution_count": 5,
   "metadata": {},
   "outputs": [],
   "source": [
    "class ListNode(object):\n",
    "    def __init__(self, val=None):\n",
    "        self.val = val\n",
    "        self.next = None\n",
    "        self.prev"
   ]
  },
  {
   "cell_type": "markdown",
   "metadata": {},
   "source": [
    "判断环\n",
    "="
   ]
  },
  {
   "cell_type": "code",
   "execution_count": 1,
   "metadata": {},
   "outputs": [],
   "source": [
    "class ListNode:\n",
    "    def __init__(self, x):\n",
    "        self.val = x\n",
    "        self.next = None\n",
    "\n",
    "class Solution:\n",
    "    def hasCycle(self, head: ListNode) -> bool:\n",
    "        # if not head or not head.next:\n",
    "        #     return False \n",
    "        \n",
    "        slow = head \n",
    "        fast = head\n",
    "\n",
    "        while fast and fast.next:\n",
    "            fast = fast.next.next \n",
    "            slow = slow.next \n",
    "            if fast == slow:\n",
    "                return True \n",
    "        \n",
    "        return False"
   ]
  },
  {
   "cell_type": "markdown",
   "metadata": {},
   "source": [
    "合并有序链表\n",
    "="
   ]
  },
  {
   "cell_type": "code",
   "execution_count": 1,
   "metadata": {},
   "outputs": [],
   "source": [
    "def merge(head1, head2):\n",
    "    dummyHead = ListNode(0)\n",
    "    temp, temp1, temp2 = dummyHead, head1, head2\n",
    "    while temp1 and temp2:\n",
    "        if temp1.val <= temp2.val:\n",
    "            temp.next = temp1 \n",
    "            temp1 = temp1.next \n",
    "        else:\n",
    "            temp.next = temp2\n",
    "            temp2 = temp2.next \n",
    "        temp = temp.next \n",
    "    temp.next = temp1 if temp1 else temp2 \n",
    "\n",
    "    return dummyHead.next"
   ]
  },
  {
   "cell_type": "code",
   "execution_count": null,
   "metadata": {},
   "outputs": [],
   "source": []
  },
  {
   "cell_type": "code",
   "execution_count": null,
   "metadata": {},
   "outputs": [],
   "source": []
  },
  {
   "cell_type": "code",
   "execution_count": null,
   "metadata": {},
   "outputs": [],
   "source": []
  },
  {
   "cell_type": "code",
   "execution_count": null,
   "metadata": {},
   "outputs": [],
   "source": []
  }
 ],
 "metadata": {
  "kernelspec": {
   "display_name": "Python 3",
   "language": "python",
   "name": "python3"
  },
  "language_info": {
   "codemirror_mode": {
    "name": "ipython",
    "version": 3
   },
   "file_extension": ".py",
   "mimetype": "text/x-python",
   "name": "python",
   "nbconvert_exporter": "python",
   "pygments_lexer": "ipython3",
   "version": "3.8.3"
  }
 },
 "nbformat": 4,
 "nbformat_minor": 4
}
